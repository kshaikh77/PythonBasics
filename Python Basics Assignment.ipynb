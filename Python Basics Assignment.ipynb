{
 "cells": [
  {
   "cell_type": "code",
   "execution_count": 3,
   "id": "d901d2ff-5a9d-4119-b3af-0b45cb3c3e7c",
   "metadata": {},
   "outputs": [
    {
     "name": "stdout",
     "output_type": "stream",
     "text": [
      "30\n",
      "40\n"
     ]
    }
   ],
   "source": [
    "#Declare two variables, `x` and `y`, and assign them integer values. Swap the values of these variables without using any temporary variable.\n",
    "#Declare and assign integer value for variable 'x'\n",
    "x=40\n",
    "#Declare and assign integer value for variable 'y'\n",
    "y=30\n",
    "#Step 1: Store the sum of the variables 'x' and 'y' in 'x'\n",
    "x=x+y\n",
    "#Step 2: Subtract 'y' from 'x' and store it in 'y'\n",
    "y=x-y\n",
    "#Step 3: Replace 'x' with 'x' - 'y'\n",
    "x=x-y\n",
    "print(x)\n",
    "print(y)"
   ]
  },
  {
   "cell_type": "code",
   "execution_count": 7,
   "id": "f9c98919-26e6-477e-9932-c4b602006020",
   "metadata": {},
   "outputs": [
    {
     "name": "stdin",
     "output_type": "stream",
     "text": [
      "Enter length 30\n",
      "Enter width 10\n"
     ]
    },
    {
     "name": "stdout",
     "output_type": "stream",
     "text": [
      "Area of the rectangle is: 300\n"
     ]
    }
   ],
   "source": [
    "#Create a program that calculates the area of a rectangle. Take the length and width as inputs from the user and store them in variables. Calculate and display the area.\n",
    "#Accept input from the user and assign length of the rectangle\n",
    "length=int(input('Enter length'))\n",
    "#Declare and assign width of the rectangle\n",
    "width=int(input('Enter width'))\n",
    "#calculate and display the area of the rectangle\n",
    "area=length*width\n",
    "print(\"Area of the rectangle is: \" + str(area))"
   ]
  },
  {
   "cell_type": "code",
   "execution_count": 9,
   "id": "853ca30a-a216-4d58-9068-266f522541d6",
   "metadata": {},
   "outputs": [
    {
     "name": "stdin",
     "output_type": "stream",
     "text": [
      "Enter temperature in celcius 32\n"
     ]
    },
    {
     "name": "stdout",
     "output_type": "stream",
     "text": [
      "Temperature in Fahrenheit is: 89.6\n"
     ]
    }
   ],
   "source": [
    "#Write a Python program that converts temperatures from Celsius to Fahrenheit. Take the temperature in Celsius as input, store it in a variable, convert it to Fahrenheit, and display the result.\n",
    "#Accept input from the user for the temperature in Celcius\n",
    "celcius=int(input('Enter temperature in celcius'))\n",
    "#Convert temperature from celcius to fahrenheit\n",
    "fahrenheit=(9/5)*celcius+32\n",
    "print(\"Temperature in Fahrenheit is: \" + str(fahrenheit))"
   ]
  },
  {
   "cell_type": "code",
   "execution_count": 17,
   "id": "136b1a2d-b0b4-4e48-8d6c-f1216ee343c0",
   "metadata": {},
   "outputs": [
    {
     "name": "stdin",
     "output_type": "stream",
     "text": [
      "Enter input string test\n"
     ]
    },
    {
     "name": "stdout",
     "output_type": "stream",
     "text": [
      "Length of string is: 4\n"
     ]
    }
   ],
   "source": [
    "#Write a Python program that takes a string as input and prints the length of the string.\n",
    "#Accept input string from the user \n",
    "inputstring=input('Enter input string')\n",
    "#Print length of the string entered by the user\n",
    "print(\"Length of string is: \" + str(len(inputstring)))"
   ]
  },
  {
   "cell_type": "code",
   "execution_count": null,
   "id": "0c3311bb-51ad-400a-87b2-05bdbefd2e48",
   "metadata": {},
   "outputs": [],
   "source": [
    "#Create a program that takes a sentence from the user and counts the number of vowels (a, e, i, o, u) in the string.\n",
    "#Accept input string from the user\n",
    "input_str=input('Enter input string')\n",
    "# Vowel indices in String \n",
    "# Using loop \n",
    "vowel_count=0\n",
    "for ele in range(len(input_str)): \n",
    "    if input_str[ele] in \"aeiou\": \n",
    "        vowel_count=vowel_count+1\n",
    "print(\"Number of vowels in the input string is: \" + str(vowel_count))     \n",
    "        "
   ]
  },
  {
   "cell_type": "code",
   "execution_count": 12,
   "id": "9ac476c0-b3e1-4672-9b36-8e9035fe7036",
   "metadata": {},
   "outputs": [
    {
     "name": "stdin",
     "output_type": "stream",
     "text": [
      "Enter input string test\n"
     ]
    },
    {
     "name": "stdout",
     "output_type": "stream",
     "text": [
      "Reverse of the input string is: tset\n",
      "Palindrome: False\n"
     ]
    }
   ],
   "source": [
    "\n",
    "def reverse(s): \n",
    "    # Using loop \n",
    "    reverse_string = []\n",
    "    for ele in range(len(s)): \n",
    "        reverse_string.append(s[len(s)-ele-1]) \n",
    "    str1 = \"\" \n",
    "    return(str1.join(reverse_string))\n",
    "#Accept input string from the user\n",
    "input_str1=input('Enter input string')\n",
    "#Given a string, reverse the order of characters using string slicing and print the reversed string.\n",
    "print(\"Reverse of the input string is: \" + reverse(input_str1))\n",
    "#Write a program that takes a string as input and checks if it is a palindrome (reads the same forwards and backwards).\n",
    "palindrome = input_str1 == reverse(input_str1)\n",
    "print(\"Palindrome: \" + str(palindrome) )\n"
   ]
  },
  {
   "cell_type": "code",
   "execution_count": null,
   "id": "1fe4d6e1-efd4-4aa9-b172-2ce966f37cbb",
   "metadata": {},
   "outputs": [],
   "source": [
    "#Create a program that takes a string as input and removes all the spaces from it. Print the modified string without spaces.\n",
    "\"\".join(s.split())"
   ]
  }
 ],
 "metadata": {
  "kernelspec": {
   "display_name": "Python 3 (ipykernel)",
   "language": "python",
   "name": "python3"
  },
  "language_info": {
   "codemirror_mode": {
    "name": "ipython",
    "version": 3
   },
   "file_extension": ".py",
   "mimetype": "text/x-python",
   "name": "python",
   "nbconvert_exporter": "python",
   "pygments_lexer": "ipython3",
   "version": "3.10.8"
  }
 },
 "nbformat": 4,
 "nbformat_minor": 5
}
